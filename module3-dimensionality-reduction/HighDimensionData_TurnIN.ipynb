{
  "nbformat": 4,
  "nbformat_minor": 0,
  "metadata": {
    "colab": {
      "name": "HighDimensionData-TurnIN.ipynb",
      "provenance": [],
      "collapsed_sections": [],
      "include_colab_link": true
    },
    "kernelspec": {
      "name": "python3",
      "display_name": "Python 3"
    }
  },
  "cells": [
    {
      "cell_type": "markdown",
      "metadata": {
        "id": "view-in-github",
        "colab_type": "text"
      },
      "source": [
        "<a href=\"https://colab.research.google.com/github/DAVIDnHANG/DS-Unit-1-Sprint-4-Linear-Algebra/blob/master/module3-dimensionality-reduction/HighDimensionData_TurnIN.ipynb\" target=\"_parent\"><img src=\"https://colab.research.google.com/assets/colab-badge.svg\" alt=\"Open In Colab\"/></a>"
      ]
    },
    {
      "cell_type": "code",
      "metadata": {
        "id": "ATxZWYsuAV-f",
        "colab_type": "code",
        "colab": {}
      },
      "source": [
        "import matplotlib.pyplot as plt\n",
        "import math\n",
        "import numpy as np"
      ],
      "execution_count": 0,
      "outputs": []
    },
    {
      "cell_type": "code",
      "metadata": {
        "id": "B2_X6r_z_0Hi",
        "colab_type": "code",
        "outputId": "70b07585-a188-470b-80fb-fff57179cb02",
        "colab": {
          "base_uri": "https://localhost:8080/",
          "height": 538
        }
      },
      "source": [
        "#create a graph that fit vertical line test\n",
        "x = [1,2,3,4,5]\n",
        "\n",
        "space = np.arange(0,6,1)\n",
        "y = np.cosh(space)\n",
        "circle = plt.Circle((0,0),.5,color='r')\n",
        "plt.plot(x)\n",
        "plt.show()\n",
        "\n",
        "\n",
        "plt.axvline(x=0.22058956)\n",
        "print(\".2 is not 1-1 to any particular outcome.\")"
      ],
      "execution_count": 0,
      "outputs": [
        {
          "output_type": "display_data",
          "data": {
            "image/png": "[encoded data removed]",
            "text/plain": [
              "<Figure size 432x288 with 1 Axes>"
            ]
          },
          "metadata": {
            "tags": []
          }
        },
        {
          "output_type": "execute_result",
          "data": {
            "text/plain": [
              "<matplotlib.lines.Line2D at 0x7fb7d47fd208>"
            ]
          },
          "metadata": {
            "tags": []
          },
          "execution_count": 17
        },
        {
          "output_type": "display_data",
          "data": {
            "image/png": "[encoded data removed]",
            "text/plain": [
              "<Figure size 432x288 with 1 Axes>"
            ]
          },
          "metadata": {
            "tags": []
          }
        }
      ]
    },
    {
      "cell_type": "markdown",
      "metadata": {
        "id": "dE5WWWXpO9oP",
        "colab_type": "text"
      },
      "source": [
        "2.1 Which of the following relations are functions? Why?\n",
        "$$\\begin{align}\n",
        "\\text{Relation 1: } \\{(1, 2), (3, 2), (1, 3)\\}\n",
        "\\\\\n",
        "\\text{Relation 2: } \\{(1, 3), (2, 3), (6, 7)\\}\n",
        "\\\\\n",
        "\\text{Relation 3: } \\{(9, 4), (2, 1), (9, 6)\\}\n",
        "\\\\\n",
        "\\text{Relation 4: } \\{(6, 2), (8, 3), (6, 4)\\}\n",
        "\\\\\n",
        "\\text{Relation 5: } \\{(2, 6), (2, 7), (2, 4)\\}\n",
        "\\end{align}$$\n",
        "\n",
        "\n",
        "1) the input 1 give two output 2 and 3.\n",
        "\n",
        "2) is a function, every x maps onto a y.\n",
        "\n",
        "3) 9 maps onto 4 and 6.\n",
        "\n",
        "4) not a function. 6 gives two output 2 and 4\n",
        "\n",
        "5) not a function. 2 gives three output 6 7 and 4"
      ]
    },
    {
      "cell_type": "markdown",
      "metadata": {
        "id": "uQRLzufAQH-P",
        "colab_type": "text"
      },
      "source": [
        "\n",
        "3.1 for the following functions what is the dimensionality of the domain (input) and codomain (range/output)?\n",
        "$$\\begin{align}\n",
        "m(𝑥_1,𝑥_2,𝑥_3)=(x_1+x_2, x_1+x_3, x_2+x_3)\n",
        "\\\\\n",
        "n(𝑥_1,𝑥_2,𝑥_3,𝑥_4)=(x_2^2 + x_3, x_2x_4)\n",
        "\\end{align}$$\n",
        "\n",
        "\n",
        "1) $R^3 -> R^2$\n",
        "2) $R^4 -> R^2$"
      ]
    },
    {
      "cell_type": "code",
      "metadata": {
        "id": "KrpTQ7vsMa59",
        "colab_type": "code",
        "colab": {}
      },
      "source": [
        ""
      ],
      "execution_count": 0,
      "outputs": []
    },
    {
      "cell_type": "markdown",
      "metadata": {
        "id": "Hclhj-IQQbXG",
        "colab_type": "text"
      },
      "source": [
        "3.2 Do you think it's possible to create a function that maps from a lower dimensional space to a higher dimensional space? If so, provide an example\n",
        "Yes.\n",
        "\n",
        " $h[x_1, x_2]$ = $[x_1 + x_2, (x_2+x1) / x_1,  x_2 x_1]$"
      ]
    },
    {
      "cell_type": "markdown",
      "metadata": {
        "id": "Bd0K4kDBVEhp",
        "colab_type": "text"
      },
      "source": [
        "4.1 Plug the corresponding unit vectors into each function. Use the output vectors to create a transformation matrix.\n",
        "$$\\begin{align}\n",
        "p(\\begin{bmatrix}x_1 \\\\ x_2 \\end{bmatrix}) = \\begin{bmatrix} x_1 + 3x_2 \\\\2 x_2 - x_1 \\\\  \\end{bmatrix}\n",
        "\\\\\n",
        "\\\\\n",
        "q(\\begin{bmatrix}x_1 \\\\ x_2 \\\\ x_3\\end{bmatrix}) = \\begin{bmatrix} 4x_1 + x_2 + 2x_3 \\\\2 x_2 - x_1 + 3x_3 \\\\ 5x_1 - 2x_3 + x_2  \\end{bmatrix}\n",
        "\\end{align}$$"
      ]
    },
    {
      "cell_type": "markdown",
      "metadata": {
        "id": "5LNloZ3BVHuN",
        "colab_type": "text"
      },
      "source": [
        "$$\\begin{align}\n",
        "T = \\begin{bmatrix}1  & 3\\\\-1 & 2\\end{bmatrix} \n",
        "\\\\\n",
        "\\\\\n",
        "T = \\begin{bmatrix} 4 & 1 & 2 \\\\ -1 & 2 & 3\\\\ 5 & 1 & -2 \\end{bmatrix}\n",
        "\\end{align}$$"
      ]
    },
    {
      "cell_type": "markdown",
      "metadata": {
        "id": "2kiQaPfhbgqN",
        "colab_type": "text"
      },
      "source": [
        "**Let x = [1,2]**  [7,3] = \n",
        "\n",
        "1+3(2), \n",
        "\n",
        "2(2)-1\n",
        "\n",
        "\n",
        "let = [1,2,3] = \n",
        "\n",
        "(4(1) + x_2(2) + 2(3) , \n",
        "\n",
        "-1(1) + 2(2) + 3(3), \n",
        "\n",
        "5(1) + 1(2) + (-2)3)"
      ]
    },
    {
      "cell_type": "code",
      "metadata": {
        "id": "_sDLyqq3aQW4",
        "colab_type": "code",
        "colab": {}
      },
      "source": [
        ""
      ],
      "execution_count": 0,
      "outputs": []
    },
    {
      "cell_type": "markdown",
      "metadata": {
        "id": "UuSxcCzvh3VV",
        "colab_type": "text"
      },
      "source": [
        "The Curse of Dimensionality\n",
        "6.1 What are some of the challenges of working with high dimensional spaces?\n",
        "6.2 What is the rule of thumb for how many observations you should have compared to parameters in your model?\n",
        "\n",
        "1) prevent overfitting on data. \n",
        "   a) use feature extraction. PCA method\n",
        "     1) prolbem with extraction is that you are mapping information onto something else, such that you need the proper information to recall what it was projection onto.\n",
        "   b)Rule of thumb is probably 5 time observation than columns."
      ]
    },
    {
      "cell_type": "code",
      "metadata": {
        "id": "XAI8DWSxh1gA",
        "colab_type": "code",
        "colab": {}
      },
      "source": [
        ""
      ],
      "execution_count": 0,
      "outputs": []
    },
    {
      "cell_type": "code",
      "metadata": {
        "id": "httlvp7eh2Ge",
        "colab_type": "code",
        "outputId": "ad1912c3-fbb6-4c54-ed47-fcf3f6fc8159",
        "colab": {
          "base_uri": "https://localhost:8080/",
          "height": 204
        }
      },
      "source": [
        "import pandas as pd\n",
        "import urllib\n",
        "Iris_url ='https://gist.githubusercontent.com/curran/a08a1080b88344b0c8a7/raw/d546eaee765268bf2f487608c537c05e22e4b221/iris.csv'\n",
        "Iris = pd.read_csv(Iris_url, header=1)\n",
        "Iris.head()\n"
      ],
      "execution_count": 0,
      "outputs": [
        {
          "output_type": "execute_result",
          "data": {
            "text/html": [
              "<div>\n",
              "<style scoped>\n",
              "    .dataframe tbody tr th:only-of-type {\n",
              "        vertical-align: middle;\n",
              "    }\n",
              "\n",
              "    .dataframe tbody tr th {\n",
              "        vertical-align: top;\n",
              "    }\n",
              "\n",
              "    .dataframe thead th {\n",
              "        text-align: right;\n",
              "    }\n",
              "</style>\n",
              "<table border=\"1\" class=\"dataframe\">\n",
              "  <thead>\n",
              "    <tr style=\"text-align: right;\">\n",
              "      <th></th>\n",
              "      <th>5.1</th>\n",
              "      <th>3.5</th>\n",
              "      <th>1.4</th>\n",
              "      <th>0.2</th>\n",
              "      <th>setosa</th>\n",
              "    </tr>\n",
              "  </thead>\n",
              "  <tbody>\n",
              "    <tr>\n",
              "      <th>0</th>\n",
              "      <td>4.9</td>\n",
              "      <td>3.0</td>\n",
              "      <td>1.4</td>\n",
              "      <td>0.2</td>\n",
              "      <td>setosa</td>\n",
              "    </tr>\n",
              "    <tr>\n",
              "      <th>1</th>\n",
              "      <td>4.7</td>\n",
              "      <td>3.2</td>\n",
              "      <td>1.3</td>\n",
              "      <td>0.2</td>\n",
              "      <td>setosa</td>\n",
              "    </tr>\n",
              "    <tr>\n",
              "      <th>2</th>\n",
              "      <td>4.6</td>\n",
              "      <td>3.1</td>\n",
              "      <td>1.5</td>\n",
              "      <td>0.2</td>\n",
              "      <td>setosa</td>\n",
              "    </tr>\n",
              "    <tr>\n",
              "      <th>3</th>\n",
              "      <td>5.0</td>\n",
              "      <td>3.6</td>\n",
              "      <td>1.4</td>\n",
              "      <td>0.2</td>\n",
              "      <td>setosa</td>\n",
              "    </tr>\n",
              "    <tr>\n",
              "      <th>4</th>\n",
              "      <td>5.4</td>\n",
              "      <td>3.9</td>\n",
              "      <td>1.7</td>\n",
              "      <td>0.4</td>\n",
              "      <td>setosa</td>\n",
              "    </tr>\n",
              "  </tbody>\n",
              "</table>\n",
              "</div>"
            ],
            "text/plain": [
              "   5.1  3.5  1.4  0.2  setosa\n",
              "0  4.9  3.0  1.4  0.2  setosa\n",
              "1  4.7  3.2  1.3  0.2  setosa\n",
              "2  4.6  3.1  1.5  0.2  setosa\n",
              "3  5.0  3.6  1.4  0.2  setosa\n",
              "4  5.4  3.9  1.7  0.4  setosa"
            ]
          },
          "metadata": {
            "tags": []
          },
          "execution_count": 29
        }
      ]
    },
    {
      "cell_type": "code",
      "metadata": {
        "id": "8s4ul0vAnw1G",
        "colab_type": "code",
        "colab": {}
      },
      "source": [
        ""
      ],
      "execution_count": 0,
      "outputs": []
    }
  ]
}
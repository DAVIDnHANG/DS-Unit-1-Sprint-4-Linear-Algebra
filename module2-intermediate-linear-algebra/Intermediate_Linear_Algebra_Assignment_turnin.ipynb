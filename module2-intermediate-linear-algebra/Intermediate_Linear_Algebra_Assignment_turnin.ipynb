{
  "nbformat": 4,
  "nbformat_minor": 0,
  "metadata": {
    "colab": {
      "name": "Intermediate_Linear_Algebra_Assignment_turnin.ipynb",
      "provenance": [],
      "collapsed_sections": [],
      "include_colab_link": true
    },
    "kernelspec": {
      "name": "python3",
      "display_name": "Python 3"
    }
  },
  "cells": [
    {
      "cell_type": "markdown",
      "metadata": {
        "id": "view-in-github",
        "colab_type": "text"
      },
      "source": [
        "<a href=\"https://colab.research.google.com/github/DAVIDnHANG/DS-Unit-1-Sprint-4-Linear-Algebra/blob/master/module2-intermediate-linear-algebra/Intermediate_Linear_Algebra_Assignment_turnin.ipynb\" target=\"_parent\"><img src=\"https://colab.research.google.com/assets/colab-badge.svg\" alt=\"Open In Colab\"/></a>"
      ]
    },
    {
      "cell_type": "code",
      "metadata": {
        "id": "uavvAvX2PxRF",
        "colab_type": "code",
        "outputId": "95239c5e-7fc7-4f52-e702-7c04465f9f01",
        "colab": {
          "base_uri": "https://localhost:8080/",
          "height": 272
        }
      },
      "source": [
        "pip install --upgrade numpy"
      ],
      "execution_count": 0,
      "outputs": [
        {
          "output_type": "stream",
          "text": [
            "Collecting numpy\n",
            "\u001b[?25l  Downloading https://files.pythonhosted.org/packages/e5/e6/c3fdc53aed9fa19d6ff3abf97dfad768ae3afce1b7431f7500000816bda5/numpy-1.17.2-cp36-cp36m-manylinux1_x86_64.whl (20.4MB)\n",
            "\u001b[K     |████████████████████████████████| 20.4MB 9.5MB/s \n",
            "\u001b[31mERROR: datascience 0.10.6 has requirement folium==0.2.1, but you'll have folium 0.8.3 which is incompatible.\u001b[0m\n",
            "\u001b[31mERROR: albumentations 0.1.12 has requirement imgaug<0.2.7,>=0.2.5, but you'll have imgaug 0.2.9 which is incompatible.\u001b[0m\n",
            "\u001b[?25hInstalling collected packages: numpy\n",
            "  Found existing installation: numpy 1.16.5\n",
            "    Uninstalling numpy-1.16.5:\n",
            "      Successfully uninstalled numpy-1.16.5\n",
            "Successfully installed numpy-1.17.2\n"
          ],
          "name": "stdout"
        },
        {
          "output_type": "display_data",
          "data": {
            "application/vnd.colab-display-data+json": {
              "pip_warning": {
                "packages": [
                  "numpy"
                ]
              }
            }
          },
          "metadata": {
            "tags": []
          }
        }
      ]
    },
    {
      "cell_type": "code",
      "metadata": {
        "id": "ga27kuQ7w-MO",
        "colab_type": "code",
        "colab": {}
      },
      "source": [
        "import math\n",
        "import numpy as np\n",
        "import pandas as pd\n",
        "import matplotlib.pyplot as plt\n",
        "import scipy.linalg as spalg\n",
        "import numpy.linalg as npalg"
      ],
      "execution_count": 0,
      "outputs": []
    },
    {
      "cell_type": "code",
      "metadata": {
        "id": "55tWlISRLfUa",
        "colab_type": "code",
        "colab": {}
      },
      "source": [
        "## mean function, variance and std function\n",
        "def mean(list1):\n",
        "  total=0\n",
        "  for index in range(0,len(list1)):\n",
        "    total = total+list1[index]\n",
        "  mean = total/len(list1)\n",
        "  return mean\n",
        "\n",
        "  #variance function\n",
        "def variance(list2):\n",
        "  total=0 \n",
        "  spread = 0\n",
        "  x_mean = mean(list2)\n",
        "  for index in range(0,len(list2)):\n",
        "    spread = (list2[index] - x_mean)**2\n",
        "    total = total + spread\n",
        "  s_sq = total / (len(list2))\n",
        "  return s_sq\n",
        "\n",
        "#std\n",
        "def standardDev(list3):\n",
        "  return variance(list3)**(.5)"
      ],
      "execution_count": 0,
      "outputs": []
    },
    {
      "cell_type": "code",
      "metadata": {
        "id": "Uy0NScWlxHME",
        "colab_type": "code",
        "outputId": "3f789b57-b1ca-4864-d781-7ecd9a1382af",
        "colab": {
          "base_uri": "https://localhost:8080/",
          "height": 34
        }
      },
      "source": [
        "#run the function on this list\n",
        "sales = [3505,2400,3027,2798,3700,3250,2689]\n",
        "print(\"mean:\" ,mean(sales) , \"variance:\", variance(sales), \"standardDeviation:\", standardDev(sales))"
      ],
      "execution_count": 0,
      "outputs": [
        {
          "output_type": "stream",
          "text": [
            "mean: 3052.714285714286 variance: 183761.06122448976 standardDeviation: 428.67360686714756\n"
          ],
          "name": "stdout"
        }
      ]
    },
    {
      "cell_type": "code",
      "metadata": {
        "id": "oAvX0nowqUcj",
        "colab_type": "code",
        "outputId": "d02b328e-4c07-4b84-aca1-cef9ee3bbd60",
        "colab": {
          "base_uri": "https://localhost:8080/",
          "height": 119
        }
      },
      "source": [
        "###   Number of customer. Find covariance      ###########################\n",
        "customers = [127, 80, 105, 92, 120, 115, 93]\n",
        "print('Covariance is the following:\\n cov(a,a) cov(a,b)\\n cov(a,b) cov(b,b) \\n')\n",
        "np.cov(sales, customers)\n"
      ],
      "execution_count": 0,
      "outputs": [
        {
          "output_type": "stream",
          "text": [
            "Covariance is the following:\n",
            " cov(a,a) cov(a,b)\n",
            " cov(a,b) cov(b,b) \n",
            "\n"
          ],
          "name": "stdout"
        },
        {
          "output_type": "execute_result",
          "data": {
            "text/plain": [
              "array([[214387.9047619 ,   7604.35714286],\n",
              "       [  7604.35714286,    290.95238095]])"
            ]
          },
          "metadata": {
            "tags": []
          },
          "execution_count": 27
        }
      ]
    },
    {
      "cell_type": "code",
      "metadata": {
        "id": "wNuKZEt6xWxV",
        "colab_type": "code",
        "outputId": "561686dc-d0d2-4acf-92bf-0e75ffb34547",
        "colab": {
          "base_uri": "https://localhost:8080/",
          "height": 85
        }
      },
      "source": [
        "###############        correlation coefficient                      ##########################################\n",
        "print(\"STD of customer is \",standardDev(customers))\n",
        "print(\"calculator of correlation coefficient\", ( 7604.357  / ( standardDev(sales) *standardDev(customers))))\n",
        "np.corrcoef(sales, customers)"
      ],
      "execution_count": 0,
      "outputs": [
        {
          "output_type": "stream",
          "text": [
            "STD of customer is  15.792015549069118\n",
            "calculator of correlation coefficient 1.1233062863480243\n"
          ],
          "name": "stdout"
        },
        {
          "output_type": "execute_result",
          "data": {
            "text/plain": [
              "array([[1.        , 0.96283398],\n",
              "       [0.96283398, 1.        ]])"
            ]
          },
          "metadata": {
            "tags": []
          },
          "execution_count": 53
        }
      ]
    },
    {
      "cell_type": "code",
      "metadata": {
        "id": "h_F7uD4_yLst",
        "colab_type": "code",
        "colab": {}
      },
      "source": [
        "titantic = pd.read_csv(\"https://raw.githubusercontent.com/Geoyi/Cleaning-Titanic-Data/master/titanic_clean.csv\", header=0, na_values='NaN')\n",
        "titantic.tail()"
      ],
      "execution_count": 0,
      "outputs": []
    },
    {
      "cell_type": "code",
      "metadata": {
        "id": "qrygTSsC16yN",
        "colab_type": "code",
        "outputId": "a8e5ae70-8410-47eb-8f4a-74978dbd756c",
        "colab": {
          "base_uri": "https://localhost:8080/",
          "height": 328
        }
      },
      "source": [
        "\n",
        "#########              variance-covariance matrix          ########\n",
        "titantic.cov()"
      ],
      "execution_count": 0,
      "outputs": [
        {
          "output_type": "execute_result",
          "data": {
            "text/html": [
              "<div>\n",
              "<style scoped>\n",
              "    .dataframe tbody tr th:only-of-type {\n",
              "        vertical-align: middle;\n",
              "    }\n",
              "\n",
              "    .dataframe tbody tr th {\n",
              "        vertical-align: top;\n",
              "    }\n",
              "\n",
              "    .dataframe thead th {\n",
              "        text-align: right;\n",
              "    }\n",
              "</style>\n",
              "<table border=\"1\" class=\"dataframe\">\n",
              "  <thead>\n",
              "    <tr style=\"text-align: right;\">\n",
              "      <th></th>\n",
              "      <th>Unnamed: 0</th>\n",
              "      <th>pclass</th>\n",
              "      <th>survived</th>\n",
              "      <th>age</th>\n",
              "      <th>sibsp</th>\n",
              "      <th>parch</th>\n",
              "      <th>fare</th>\n",
              "      <th>body</th>\n",
              "      <th>has_cabin_number</th>\n",
              "    </tr>\n",
              "  </thead>\n",
              "  <tbody>\n",
              "    <tr>\n",
              "      <th>Unnamed: 0</th>\n",
              "      <td>143117.500000</td>\n",
              "      <td>284.357034</td>\n",
              "      <td>-53.967125</td>\n",
              "      <td>-1442.939812</td>\n",
              "      <td>25.828746</td>\n",
              "      <td>1.172783</td>\n",
              "      <td>-9410.735123</td>\n",
              "      <td>591.579132</td>\n",
              "      <td>-95.438885</td>\n",
              "    </tr>\n",
              "    <tr>\n",
              "      <th>pclass</th>\n",
              "      <td>284.357034</td>\n",
              "      <td>0.701969</td>\n",
              "      <td>-0.127248</td>\n",
              "      <td>-3.954605</td>\n",
              "      <td>0.053090</td>\n",
              "      <td>0.013287</td>\n",
              "      <td>-24.227788</td>\n",
              "      <td>-2.876653</td>\n",
              "      <td>-0.249992</td>\n",
              "    </tr>\n",
              "    <tr>\n",
              "      <th>survived</th>\n",
              "      <td>-53.967125</td>\n",
              "      <td>-0.127248</td>\n",
              "      <td>0.236250</td>\n",
              "      <td>-0.314343</td>\n",
              "      <td>-0.014088</td>\n",
              "      <td>0.034776</td>\n",
              "      <td>6.146023</td>\n",
              "      <td>0.000000</td>\n",
              "      <td>0.061406</td>\n",
              "    </tr>\n",
              "    <tr>\n",
              "      <th>age</th>\n",
              "      <td>-1442.939812</td>\n",
              "      <td>-3.954605</td>\n",
              "      <td>-0.314343</td>\n",
              "      <td>165.850021</td>\n",
              "      <td>-2.559806</td>\n",
              "      <td>-1.459378</td>\n",
              "      <td>114.416613</td>\n",
              "      <td>81.622922</td>\n",
              "      <td>1.463138</td>\n",
              "    </tr>\n",
              "    <tr>\n",
              "      <th>sibsp</th>\n",
              "      <td>25.828746</td>\n",
              "      <td>0.053090</td>\n",
              "      <td>-0.014088</td>\n",
              "      <td>-2.559806</td>\n",
              "      <td>1.085052</td>\n",
              "      <td>0.336833</td>\n",
              "      <td>8.641768</td>\n",
              "      <td>-8.708471</td>\n",
              "      <td>-0.003946</td>\n",
              "    </tr>\n",
              "    <tr>\n",
              "      <th>parch</th>\n",
              "      <td>1.172783</td>\n",
              "      <td>0.013287</td>\n",
              "      <td>0.034776</td>\n",
              "      <td>-1.459378</td>\n",
              "      <td>0.336833</td>\n",
              "      <td>0.749195</td>\n",
              "      <td>9.928031</td>\n",
              "      <td>4.237190</td>\n",
              "      <td>0.013316</td>\n",
              "    </tr>\n",
              "    <tr>\n",
              "      <th>fare</th>\n",
              "      <td>-9410.735123</td>\n",
              "      <td>-24.227788</td>\n",
              "      <td>6.146023</td>\n",
              "      <td>114.416613</td>\n",
              "      <td>8.641768</td>\n",
              "      <td>9.928031</td>\n",
              "      <td>2678.959738</td>\n",
              "      <td>-179.164684</td>\n",
              "      <td>10.976961</td>\n",
              "    </tr>\n",
              "    <tr>\n",
              "      <th>body</th>\n",
              "      <td>591.579132</td>\n",
              "      <td>-2.876653</td>\n",
              "      <td>0.000000</td>\n",
              "      <td>81.622922</td>\n",
              "      <td>-8.708471</td>\n",
              "      <td>4.237190</td>\n",
              "      <td>-179.164684</td>\n",
              "      <td>9544.688567</td>\n",
              "      <td>3.625689</td>\n",
              "    </tr>\n",
              "    <tr>\n",
              "      <th>has_cabin_number</th>\n",
              "      <td>-95.438885</td>\n",
              "      <td>-0.249992</td>\n",
              "      <td>0.061406</td>\n",
              "      <td>1.463138</td>\n",
              "      <td>-0.003946</td>\n",
              "      <td>0.013316</td>\n",
              "      <td>10.976961</td>\n",
              "      <td>3.625689</td>\n",
              "      <td>0.174613</td>\n",
              "    </tr>\n",
              "  </tbody>\n",
              "</table>\n",
              "</div>"
            ],
            "text/plain": [
              "                     Unnamed: 0      pclass  ...         body  has_cabin_number\n",
              "Unnamed: 0        143117.500000  284.357034  ...   591.579132        -95.438885\n",
              "pclass               284.357034    0.701969  ...    -2.876653         -0.249992\n",
              "survived             -53.967125   -0.127248  ...     0.000000          0.061406\n",
              "age                -1442.939812   -3.954605  ...    81.622922          1.463138\n",
              "sibsp                 25.828746    0.053090  ...    -8.708471         -0.003946\n",
              "parch                  1.172783    0.013287  ...     4.237190          0.013316\n",
              "fare               -9410.735123  -24.227788  ...  -179.164684         10.976961\n",
              "body                 591.579132   -2.876653  ...  9544.688567          3.625689\n",
              "has_cabin_number     -95.438885   -0.249992  ...     3.625689          0.174613\n",
              "\n",
              "[9 rows x 9 columns]"
            ]
          },
          "metadata": {
            "tags": []
          },
          "execution_count": 91
        }
      ]
    },
    {
      "cell_type": "code",
      "metadata": {
        "id": "CbtmoWXJKZid",
        "colab_type": "code",
        "outputId": "12cc493c-9db5-4270-ce33-e450c997c11c",
        "colab": {
          "base_uri": "https://localhost:8080/",
          "height": 328
        }
      },
      "source": [
        "#FInd correlation matrix for Numeric columns   #$$$$$\n",
        "titantic.corr()"
      ],
      "execution_count": 0,
      "outputs": [
        {
          "output_type": "execute_result",
          "data": {
            "text/html": [
              "<div>\n",
              "<style scoped>\n",
              "    .dataframe tbody tr th:only-of-type {\n",
              "        vertical-align: middle;\n",
              "    }\n",
              "\n",
              "    .dataframe tbody tr th {\n",
              "        vertical-align: top;\n",
              "    }\n",
              "\n",
              "    .dataframe thead th {\n",
              "        text-align: right;\n",
              "    }\n",
              "</style>\n",
              "<table border=\"1\" class=\"dataframe\">\n",
              "  <thead>\n",
              "    <tr style=\"text-align: right;\">\n",
              "      <th></th>\n",
              "      <th>Unnamed: 0</th>\n",
              "      <th>pclass</th>\n",
              "      <th>survived</th>\n",
              "      <th>age</th>\n",
              "      <th>sibsp</th>\n",
              "      <th>parch</th>\n",
              "      <th>fare</th>\n",
              "      <th>body</th>\n",
              "      <th>has_cabin_number</th>\n",
              "    </tr>\n",
              "  </thead>\n",
              "  <tbody>\n",
              "    <tr>\n",
              "      <th>Unnamed: 0</th>\n",
              "      <td>1.000000</td>\n",
              "      <td>0.897822</td>\n",
              "      <td>-0.293717</td>\n",
              "      <td>-0.296172</td>\n",
              "      <td>0.065594</td>\n",
              "      <td>0.003584</td>\n",
              "      <td>-0.481215</td>\n",
              "      <td>0.015558</td>\n",
              "      <td>-0.603727</td>\n",
              "    </tr>\n",
              "    <tr>\n",
              "      <th>pclass</th>\n",
              "      <td>0.897822</td>\n",
              "      <td>1.000000</td>\n",
              "      <td>-0.312469</td>\n",
              "      <td>-0.366370</td>\n",
              "      <td>0.060832</td>\n",
              "      <td>0.018322</td>\n",
              "      <td>-0.558629</td>\n",
              "      <td>-0.034642</td>\n",
              "      <td>-0.713857</td>\n",
              "    </tr>\n",
              "    <tr>\n",
              "      <th>survived</th>\n",
              "      <td>-0.293717</td>\n",
              "      <td>-0.312469</td>\n",
              "      <td>1.000000</td>\n",
              "      <td>-0.050199</td>\n",
              "      <td>-0.027825</td>\n",
              "      <td>0.082660</td>\n",
              "      <td>0.244265</td>\n",
              "      <td>NaN</td>\n",
              "      <td>0.302250</td>\n",
              "    </tr>\n",
              "    <tr>\n",
              "      <th>age</th>\n",
              "      <td>-0.296172</td>\n",
              "      <td>-0.366370</td>\n",
              "      <td>-0.050199</td>\n",
              "      <td>1.000000</td>\n",
              "      <td>-0.190747</td>\n",
              "      <td>-0.130872</td>\n",
              "      <td>0.171892</td>\n",
              "      <td>0.059059</td>\n",
              "      <td>0.271887</td>\n",
              "    </tr>\n",
              "    <tr>\n",
              "      <th>sibsp</th>\n",
              "      <td>0.065594</td>\n",
              "      <td>0.060832</td>\n",
              "      <td>-0.027825</td>\n",
              "      <td>-0.190747</td>\n",
              "      <td>1.000000</td>\n",
              "      <td>0.373587</td>\n",
              "      <td>0.160238</td>\n",
              "      <td>-0.099961</td>\n",
              "      <td>-0.009064</td>\n",
              "    </tr>\n",
              "    <tr>\n",
              "      <th>parch</th>\n",
              "      <td>0.003584</td>\n",
              "      <td>0.018322</td>\n",
              "      <td>0.082660</td>\n",
              "      <td>-0.130872</td>\n",
              "      <td>0.373587</td>\n",
              "      <td>1.000000</td>\n",
              "      <td>0.221539</td>\n",
              "      <td>0.051099</td>\n",
              "      <td>0.036806</td>\n",
              "    </tr>\n",
              "    <tr>\n",
              "      <th>fare</th>\n",
              "      <td>-0.481215</td>\n",
              "      <td>-0.558629</td>\n",
              "      <td>0.244265</td>\n",
              "      <td>0.171892</td>\n",
              "      <td>0.160238</td>\n",
              "      <td>0.221539</td>\n",
              "      <td>1.000000</td>\n",
              "      <td>-0.043110</td>\n",
              "      <td>0.507253</td>\n",
              "    </tr>\n",
              "    <tr>\n",
              "      <th>body</th>\n",
              "      <td>0.015558</td>\n",
              "      <td>-0.034642</td>\n",
              "      <td>NaN</td>\n",
              "      <td>0.059059</td>\n",
              "      <td>-0.099961</td>\n",
              "      <td>0.051099</td>\n",
              "      <td>-0.043110</td>\n",
              "      <td>1.000000</td>\n",
              "      <td>0.083796</td>\n",
              "    </tr>\n",
              "    <tr>\n",
              "      <th>has_cabin_number</th>\n",
              "      <td>-0.603727</td>\n",
              "      <td>-0.713857</td>\n",
              "      <td>0.302250</td>\n",
              "      <td>0.271887</td>\n",
              "      <td>-0.009064</td>\n",
              "      <td>0.036806</td>\n",
              "      <td>0.507253</td>\n",
              "      <td>0.083796</td>\n",
              "      <td>1.000000</td>\n",
              "    </tr>\n",
              "  </tbody>\n",
              "</table>\n",
              "</div>"
            ],
            "text/plain": [
              "                  Unnamed: 0    pclass  ...      body  has_cabin_number\n",
              "Unnamed: 0          1.000000  0.897822  ...  0.015558         -0.603727\n",
              "pclass              0.897822  1.000000  ... -0.034642         -0.713857\n",
              "survived           -0.293717 -0.312469  ...       NaN          0.302250\n",
              "age                -0.296172 -0.366370  ...  0.059059          0.271887\n",
              "sibsp               0.065594  0.060832  ... -0.099961         -0.009064\n",
              "parch               0.003584  0.018322  ...  0.051099          0.036806\n",
              "fare               -0.481215 -0.558629  ... -0.043110          0.507253\n",
              "body                0.015558 -0.034642  ...  1.000000          0.083796\n",
              "has_cabin_number   -0.603727 -0.713857  ...  0.083796          1.000000\n",
              "\n",
              "[9 rows x 9 columns]"
            ]
          },
          "metadata": {
            "tags": []
          },
          "execution_count": 93
        }
      ]
    },
    {
      "cell_type": "code",
      "metadata": {
        "id": "qzo9zo7y2SFE",
        "colab_type": "code",
        "outputId": "71c9289d-7fed-4bd2-814a-a54b649c5171",
        "colab": {
          "base_uri": "https://localhost:8080/",
          "height": 340
        }
      },
      "source": [
        "import matplotlib.pyplot as plt\n",
        "plt.figure(figsize=(5,5))\n",
        "plt.arrow(0,0,0,3, head_width=.4, head_length=.5)\n",
        "plt.arrow(0,0,3,0, head_width=.4, head_length=.5)\n",
        "plt.grid(b=None, which='both')\n",
        "plt.xlim(-5,5)\n",
        "plt.ylim(-5,5)\n",
        "plt.show()\n",
        "print(\"Orthogonality means perpendicular, 90 degree angle\")"
      ],
      "execution_count": 0,
      "outputs": [
        {
          "output_type": "display_data",
          "data": {
            "image/png": "[encoded data removed]",
            "text/plain": [
              "<Figure size 360x360 with 1 Axes>"
            ]
          },
          "metadata": {
            "tags": []
          }
        },
        {
          "output_type": "stream",
          "text": [
            "Orthogonality means perpendicular, 90 degree angle\n"
          ],
          "name": "stdout"
        }
      ]
    },
    {
      "cell_type": "code",
      "metadata": {
        "id": "H8RGUruuKx6h",
        "colab_type": "code",
        "outputId": "15f207e5-92c9-45a2-f5d9-939f91462673",
        "colab": {
          "base_uri": "https://localhost:8080/",
          "height": 34
        }
      },
      "source": [
        "\n",
        "a=[-5,3,7]\n",
        "b=[6,-8,2]\n",
        "np_a=np.asarray(a)\n",
        "np_b=np.asarray(b)\n",
        "d = np_a*np_b\n",
        "print(\"Two vector are orthogonality if both vector dot product is zero. a . b = \", np.sum(d))"
      ],
      "execution_count": 0,
      "outputs": [
        {
          "output_type": "stream",
          "text": [
            "Two vector are orthogonality if both vector dot product is zero. a . b =  -40\n"
          ],
          "name": "stdout"
        }
      ]
    },
    {
      "cell_type": "code",
      "metadata": {
        "id": "p01BeU3DLx1F",
        "colab_type": "code",
        "outputId": "a68390e2-c8ad-4bcd-c1a9-1bdca4acb79d",
        "colab": {
          "base_uri": "https://localhost:8080/",
          "height": 85
        }
      },
      "source": [
        "import numpy as np\n",
        "import numpy.linalg as linalg\n",
        "\n",
        "c = [2, -15, 6, 20]\n",
        "#What is norm ||c||\n",
        "print(\"norm is\",linalg.norm(c))\n",
        "np_c = np.asarray(c)\n",
        "cc = np_c*np_c\n",
        "print(\"dot is\", np.sum(cc))\n",
        "C_T = np.transpose(np_c)\n",
        "print(C_T)\n",
        "np.matmul(C_T,c)"
      ],
      "execution_count": 0,
      "outputs": [
        {
          "output_type": "stream",
          "text": [
            "norm is 25.787593916455254\n",
            "norm is 665\n",
            "[  2 -15   6  20]\n"
          ],
          "name": "stdout"
        },
        {
          "output_type": "execute_result",
          "data": {
            "text/plain": [
              "665"
            ]
          },
          "metadata": {
            "tags": []
          },
          "execution_count": 7
        }
      ]
    },
    {
      "cell_type": "markdown",
      "metadata": {
        "id": "JNzmDCCaQarN",
        "colab_type": "text"
      },
      "source": [
        "3.1 Using Latex, write the following vectors as a linear combination of scalars and unit vectors:\n",
        "$$\\begin{align}\n",
        "d = \\begin{bmatrix} 7 \\\\ 12 \\end{bmatrix}\n",
        "\\qquad\n",
        "e = \\begin{bmatrix} 2 \\\\ 11 \\\\ -8  \\end{bmatrix}\n",
        "\\end{align}$$\n",
        "\n",
        "$d = 7i + 12j$ such that\n",
        "\n",
        "$$\\begin{align} i = \\begin{bmatrix} 1 \\\\ 0 \\end{bmatrix} \\end{align}$$\n",
        "$$\\begin{align} j = \\begin{bmatrix} 0 \\\\ 1 \\end{bmatrix} \\end{align}$$\n",
        "$e = 2i + 11k - 8j$\n",
        "$$\\begin{align} i = \\begin{bmatrix} 1 \\\\ 0 \\\\ 0  \\end{bmatrix} \\end{align}$$\n",
        "$$\\begin{align} k = \\begin{bmatrix} 0 \\\\ 1 \\\\ 0  \\end{bmatrix} \\end{align}$$\n",
        "$$\\begin{align} j = \\begin{bmatrix} 0 \\\\ 0 \\\\ 1  \\end{bmatrix} \\end{align}$$"
      ]
    },
    {
      "cell_type": "code",
      "metadata": {
        "id": "P96C3DWXQvT8",
        "colab_type": "code",
        "outputId": "7709c996-cb53-4b55-8430-eae19b4a2f3e",
        "colab": {
          "base_uri": "https://localhost:8080/",
          "height": 34
        }
      },
      "source": [
        "f = [4,12, 11, 9, 2]\n",
        "print(\"norm is\", linalg.norm(f))\n",
        "unit_vector_f = [4/19, 12/19, 11/19, 9/19, 2/19]"
      ],
      "execution_count": 0,
      "outputs": [
        {
          "output_type": "stream",
          "text": [
            "norm is 19.131126469708992\n"
          ],
          "name": "stdout"
        }
      ]
    },
    {
      "cell_type": "code",
      "metadata": {
        "id": "6PVfxQqTSqed",
        "colab_type": "code",
        "outputId": "0f166574-93bb-40b1-831f-cfefbe52cb0b",
        "colab": {
          "base_uri": "https://localhost:8080/",
          "height": 341
        }
      },
      "source": [
        "import matplotlib.pyplot as plt\n",
        "plt.figure(figsize=(5,5))\n",
        "plt.arrow(0,0,1,1, head_width=.4, head_length=.5)\n",
        "plt.arrow(1,1,1,1, head_width=.4, head_length=.5)\n",
        "plt.grid(b=None, which='both')\n",
        "plt.xlim(0,5)\n",
        "plt.ylim(0,5)\n",
        "plt.show()\n",
        "print(\"vector [1,1], [2,2] are lineraly dependent.\")"
      ],
      "execution_count": 0,
      "outputs": [
        {
          "output_type": "display_data",
          "data": {
            "image/png": "[encoded data removed]",
            "text/plain": [
              "<Figure size 360x360 with 1 Axes>"
            ]
          },
          "metadata": {
            "tags": []
          }
        },
        {
          "output_type": "stream",
          "text": [
            "Orthogonality means perpendicular, 90 degree angle\n"
          ],
          "name": "stdout"
        }
      ]
    },
    {
      "cell_type": "code",
      "metadata": {
        "id": "zga9mhBfVOxN",
        "colab_type": "code",
        "outputId": "ae8e2e5e-9dc0-4131-860f-1b973409bd7d",
        "colab": {
          "base_uri": "https://localhost:8080/",
          "height": 341
        }
      },
      "source": [
        "import matplotlib.pyplot as plt\n",
        "plt.figure(figsize=(5,5))\n",
        "plt.arrow(0,0,1,1, head_width=.4, head_length=.5)\n",
        "plt.arrow(0,0,2,1, head_width=.4, head_length=.5)\n",
        "plt.grid(b=None, which='both')\n",
        "plt.xlim(0,5)\n",
        "plt.ylim(0,5)\n",
        "plt.show()\n",
        "print(\"vector [1,1], [2,1] are lineraly independent.\")"
      ],
      "execution_count": 0,
      "outputs": [
        {
          "output_type": "display_data",
          "data": {
            "image/png": "[encoded data removed]",
            "text/plain": [
              "<Figure size 360x360 with 1 Axes>"
            ]
          },
          "metadata": {
            "tags": []
          }
        },
        {
          "output_type": "stream",
          "text": [
            "vector [1,1], [2,2] are lineraly dependent.\n"
          ],
          "name": "stdout"
        }
      ]
    },
    {
      "cell_type": "code",
      "metadata": {
        "id": "JAzqmySoVbrr",
        "colab_type": "code",
        "outputId": "a8b3cc65-c55a-4429-878c-d52fabbd9c7e",
        "colab": {
          "base_uri": "https://localhost:8080/",
          "height": 248
        }
      },
      "source": [
        "from mpl_toolkits.mplot3d import Axes3D\n",
        "import numpy as np\n",
        "import matplotlib.pyplot as plt\n",
        "#set the fig,ax\n",
        "fig = plt.figure()\n",
        "ax = fig.add_subplot(111,projection='3d')\n",
        "#plot line\n",
        "\n",
        "ax.quiver(1,1,1, 1, 1, 1)\n",
        "\n",
        "#set the x,y,z limit, and show\n",
        "ax.set_xlim(1,5)\n",
        "ax.set_ylim(0,5)\n",
        "ax.set_zlim(0,5)\n",
        "plt.show()"
      ],
      "execution_count": 0,
      "outputs": [
        {
          "output_type": "display_data",
          "data": {
            "image/png": "[encoded data removed]",
            "text/plain": [
              "<Figure size 432x288 with 1 Axes>"
            ]
          },
          "metadata": {
            "tags": []
          }
        }
      ]
    },
    {
      "cell_type": "code",
      "metadata": {
        "id": "3LCn2CXEVxrk",
        "colab_type": "code",
        "colab": {}
      },
      "source": [
        "###########span of vector g and h is\n",
        "g=[1,2]\n",
        "h=[4,8]\n",
        "########## span of {g,h} = c_1[1,2] + c_2[4,8]                  ######\n",
        "########## span of {g,h} = c_1[1,2] + 4[1,2]                  ######\n",
        "\n"
      ],
      "execution_count": 0,
      "outputs": []
    },
    {
      "cell_type": "markdown",
      "metadata": {
        "id": "rIgaXQKPYbWD",
        "colab_type": "text"
      },
      "source": [
        "3.1 Find span\n",
        "$$\\begin{align}\n",
        "g = \\begin{bmatrix} 1 \\\\ 2 \\end{bmatrix} \\qquad h = \\begin{bmatrix} 4 \\\\ 8  \\end{bmatrix}\\end{align}$$\n",
        "C_1, c_2 are real numbers. span of {g,h} is the following:\n",
        "$$\\begin{align}\n",
        "A = \\begin{bmatrix} c_1+ 4(c_2) \\\\ c_1 + 8(c_2) \\end{bmatrix}\\end{align}$$\n"
      ]
    },
    {
      "cell_type": "markdown",
      "metadata": {
        "id": "v5OcDFBjai0V",
        "colab_type": "text"
      },
      "source": [
        "5.2 What is the span of $\\{l, m, n\\}$?\n",
        "$$\\begin{align}\n",
        "A = \\begin{bmatrix} l+ -m_1 + 4(n_1) \\\\ 2l_1  + 8n_2 \\\\ 3(l_3)+ 7(m_3) + 2(n_3))\\end{bmatrix}\\end{align}$$"
      ]
    },
    {
      "cell_type": "markdown",
      "metadata": {
        "id": "CW2d2iDycC3e",
        "colab_type": "text"
      },
      "source": [
        "Two vector that form a basis for R^2\n"
      ]
    },
    {
      "cell_type": "code",
      "metadata": {
        "id": "onCCTeSJYB8l",
        "colab_type": "code",
        "outputId": "7bee304b-9f81-4ab1-83ce-71259d48dc9e",
        "colab": {
          "base_uri": "https://localhost:8080/",
          "height": 358
        }
      },
      "source": [
        "import matplotlib.pyplot as plt\n",
        "plt.figure(figsize=(5,5))\n",
        "plt.arrow(0,0,-3,1, head_width=.4, head_length=.5)\n",
        "plt.arrow(0,0,2,1, head_width=.4, head_length=.5)\n",
        "plt.grid(b=None, which='both')\n",
        "plt.xlim(-4,3)\n",
        "plt.ylim(-3,3)\n",
        "plt.show()\n",
        "print(\"vector z=[-3,1], w=[2,1] are lineraly independent. They have a span [-3z_1 + 2 w_1, z_1+w_1]\")\n",
        "print(\"two vector form a basis of R^2 if and only if the two vector are linearly independent and form a spam in R^2\")"
      ],
      "execution_count": 0,
      "outputs": [
        {
          "output_type": "display_data",
          "data": {
            "image/png": "[encoded data removed]",
            "text/plain": [
              "<Figure size 360x360 with 1 Axes>"
            ]
          },
          "metadata": {
            "tags": []
          }
        },
        {
          "output_type": "stream",
          "text": [
            "vector z=[-3,1], w=[2,1] are lineraly independent. They have a span [-3z_1 + 2 w_1, z_1+w_1]\n",
            "two vector form a basis of R^2 if and only if the two vector are linearly independent and form a spam in R^2\n"
          ],
          "name": "stdout"
        }
      ]
    },
    {
      "cell_type": "markdown",
      "metadata": {
        "id": "n3BXZvH3dDcF",
        "colab_type": "text"
      },
      "source": [
        "7.1 What is the Rank of P?\n",
        "$$\\begin{align}\n",
        "P = \\begin{bmatrix} \n",
        "1 &amp; 2 &amp; 3 \\\\\n",
        " -1 &amp; 0 &amp; 7 \\\\\n",
        "4 &amp; 8  &amp; 2\n",
        "\\end{bmatrix}\n",
        "\\end{align}$$"
      ]
    },
    {
      "cell_type": "code",
      "metadata": {
        "id": "ROoh0DnFcc1R",
        "colab_type": "code",
        "outputId": "ddfc7b35-2700-4814-e61e-20c9353ec26a",
        "colab": {
          "base_uri": "https://localhost:8080/",
          "height": 34
        }
      },
      "source": [
        "P = np.asarray([[1,2,3], [-1,0,7], [4,8,2]])\n",
        "npalg.matrix_rank(P)\n",
        "print(\"The rank tell us that matrix P span in Space R^3 because the rank is \", npalg.matrix_rank(P))"
      ],
      "execution_count": 0,
      "outputs": [
        {
          "output_type": "stream",
          "text": [
            "The rank tell us that matrix P span in Space R^3 because the rank is  3\n"
          ],
          "name": "stdout"
        }
      ]
    },
    {
      "cell_type": "code",
      "metadata": {
        "id": "S5DaWnqOfMv1",
        "colab_type": "code",
        "colab": {}
      },
      "source": [
        ""
      ],
      "execution_count": 0,
      "outputs": []
    },
    {
      "cell_type": "markdown",
      "metadata": {
        "id": "IqjDP5algiml",
        "colab_type": "text"
      },
      "source": [
        "Linear Projection\n",
        "$$\\begin{align}\n",
        "v = \\begin{bmatrix} 1 &amp; 3 \\end{bmatrix}\n",
        "\\end{align}$$$$\\begin{align}\n",
        "w = \\begin{bmatrix} -1 &amp; 2 \\end{bmatrix}\n",
        "\\end{align}$$\n",
        "find $proj_{L}(w)$"
      ]
    },
    {
      "cell_type": "code",
      "metadata": {
        "id": "46ZSZLApgj0T",
        "colab_type": "code",
        "colab": {}
      },
      "source": [
        ""
      ],
      "execution_count": 0,
      "outputs": []
    }
  ]
}